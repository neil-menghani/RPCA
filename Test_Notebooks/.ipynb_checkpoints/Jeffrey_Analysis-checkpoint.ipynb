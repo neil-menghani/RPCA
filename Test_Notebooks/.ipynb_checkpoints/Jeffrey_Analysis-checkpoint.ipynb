{
 "cells": [
  {
   "cell_type": "markdown",
   "metadata": {},
   "source": [
    "# Matrix Completion \n",
    "# Steam Games data\n",
    "\n",
    "### Jeffrey Tumminia"
   ]
  },
  {
   "cell_type": "markdown",
   "metadata": {},
   "source": [
    "## Install\n",
    "\n",
    "- cvxpy\n",
    "- matrix_completion\n",
    "- fancyimpute\n",
    "- CVXOPT\n",
    "\n"
   ]
  },
  {
   "cell_type": "code",
   "execution_count": 41,
   "metadata": {},
   "outputs": [],
   "source": [
    "import numpy as np\n",
    "import matrix_completion as mc\n",
    "from fancyimpute import KNN, SoftImpute, BiScaler"
   ]
  },
  {
   "cell_type": "code",
   "execution_count": 27,
   "metadata": {},
   "outputs": [
    {
     "name": "stdout",
     "output_type": "stream",
     "text": [
      "(174, 102)\n",
      "(174, 102)\n"
     ]
    }
   ],
   "source": [
    "pth = './'\n",
    "stm = np.load(pth+'steam_100.npy')\n",
    "mask = np.load(pth+'missing_100.npy')\n",
    "\n",
    "print(stm.shape)\n",
    "print(mask.shape)"
   ]
  },
  {
   "cell_type": "code",
   "execution_count": 28,
   "metadata": {},
   "outputs": [
    {
     "data": {
      "text/plain": [
       "0.40455262564796035"
      ]
     },
     "execution_count": 28,
     "metadata": {},
     "output_type": "execute_result"
    }
   ],
   "source": [
    "#% of values present\n",
    "sum(sum(mask))/(mask.shape[0]*mask.shape[1])"
   ]
  },
  {
   "cell_type": "markdown",
   "metadata": {},
   "source": [
    "### matrix_completion\n",
    "\n",
    "- NuclearNorm\n",
    "- Probabilistic Matrix Factorization with ALS"
   ]
  },
  {
   "cell_type": "code",
   "execution_count": 29,
   "metadata": {},
   "outputs": [
    {
     "data": {
      "text/plain": [
       "array([[41. ,  0. ,  1.2, ...,  0. ,  0. , 25. ],\n",
       "       [ 0. ,  0. ,  0. , ...,  0. ,  0. ,  0. ],\n",
       "       [ 0. ,  0. ,  0. , ...,  0. ,  0. , 41. ],\n",
       "       ...,\n",
       "       [ 0. ,  0. ,  0. , ...,  1.1,  2.2,  0. ],\n",
       "       [ 0. ,  0. ,  0. , ...,  0. ,  0. ,  0. ],\n",
       "       [ 3.6,  0. ,  0. , ...,  0. ,  0. ,  0. ]])"
      ]
     },
     "execution_count": 29,
     "metadata": {},
     "output_type": "execute_result"
    }
   ],
   "source": [
    "stm"
   ]
  },
  {
   "cell_type": "code",
   "execution_count": 30,
   "metadata": {},
   "outputs": [],
   "source": [
    "mean = np.mean(stm, axis=1).reshape(-1,1)\n",
    "stm_norm = stm - mean\n",
    "m = 1/np.sqrt(max(stm.shape))"
   ]
  },
  {
   "cell_type": "code",
   "execution_count": 31,
   "metadata": {},
   "outputs": [
    {
     "name": "stdout",
     "output_type": "stream",
     "text": [
      "(174, 102)\n"
     ]
    },
    {
     "data": {
      "text/plain": [
       "array([[ 41.00098404,  44.07160478,   1.2020442 , ...,   5.04728754,\n",
       "        151.99187027,  25.00307346],\n",
       "       [ 19.57360767,   8.77928273,   2.11818534, ...,   3.58492759,\n",
       "         34.72719512,  -2.42154936],\n",
       "       [ 33.13801516,  -7.27257992,   4.76620586, ...,  16.92765747,\n",
       "         56.27514549,  41.00111642],\n",
       "       ...,\n",
       "       [ 94.5679989 ,  40.57714998,  -0.46353866, ...,   1.10032921,\n",
       "          2.19931692,  24.42561892],\n",
       "       [ 11.81607138,   0.81033427,  13.64559876, ...,   5.30424555,\n",
       "         10.07336101,  12.32462632],\n",
       "       [  3.60028257, -13.22906341,  -4.98773617, ...,  13.54523547,\n",
       "         34.38795261,   6.11857123]])"
      ]
     },
     "execution_count": 31,
     "metadata": {},
     "output_type": "execute_result"
    }
   ],
   "source": [
    "R_hat = mc.nuclear_norm_solve(stm_norm, mask, mu=m)\n",
    "out = R_hat+mean\n",
    "print(out.shape)\n",
    "out"
   ]
  },
  {
   "cell_type": "code",
   "execution_count": 32,
   "metadata": {},
   "outputs": [
    {
     "data": {
      "text/plain": [
       "array([[ 13.35686639,  16.42748713, -26.44207345, ..., -22.59683011,\n",
       "        124.34775262,  -2.64104419],\n",
       "       [ 13.83537238,   3.04104743,  -3.62004995, ...,  -2.15330771,\n",
       "         28.98895982,  -8.15978465],\n",
       "       [ 18.80566222, -21.60493286,  -9.56614708, ...,   2.59530452,\n",
       "         41.94279255,  26.66876348],\n",
       "       ...,\n",
       "       [ 77.50035185,  23.50950292, -17.53118572, ..., -15.96731785,\n",
       "        -14.86833014,   7.35797186],\n",
       "       [  8.91018902,  -2.09554809,  10.73971641, ...,   2.39836319,\n",
       "          7.16747866,   9.41874397],\n",
       "       [ -8.57226645, -25.40161243, -17.16028519, ...,   1.37268645,\n",
       "         22.21540359,  -6.05397779]])"
      ]
     },
     "execution_count": 32,
     "metadata": {},
     "output_type": "execute_result"
    }
   ],
   "source": [
    "R_hat"
   ]
  },
  {
   "cell_type": "code",
   "execution_count": 62,
   "metadata": {},
   "outputs": [],
   "source": [
    "R_pmf = mc.pmf_solve(stm_norm, mask, k=50, mu=1e-2, max_iterations=500)"
   ]
  },
  {
   "cell_type": "code",
   "execution_count": 63,
   "metadata": {},
   "outputs": [
    {
     "data": {
      "text/plain": [
       "array([[ 4.10000034e+01,  6.36721022e+01,  1.19955004e+00, ...,\n",
       "        -1.08437331e+00, -2.74048208e+02,  2.50017534e+01],\n",
       "       [-2.32154094e+01, -1.62221245e+00,  2.42775025e+01, ...,\n",
       "         3.64316122e+00, -3.01593886e+01, -1.74734723e+01],\n",
       "       [ 2.28465890e+01, -4.77218205e+00,  3.06109189e+01, ...,\n",
       "        -6.50522469e+00,  7.96958953e+00,  4.10165942e+01],\n",
       "       ...,\n",
       "       [ 1.46024763e+02,  7.53570250e+01,  8.31792499e+01, ...,\n",
       "         1.09998918e+00,  2.19930840e+00,  1.99694577e+02],\n",
       "       [ 1.22880715e+01,  2.25701010e+00,  1.13943407e+01, ...,\n",
       "         9.10546509e-02,  1.78216146e+01, -1.31288596e+01],\n",
       "       [ 3.60009443e+00, -1.93073485e+01,  3.39879433e+01, ...,\n",
       "         4.57299024e+00,  3.89139795e+01,  3.47493223e+01]])"
      ]
     },
     "execution_count": 63,
     "metadata": {},
     "output_type": "execute_result"
    }
   ],
   "source": [
    "R_pmf+mean"
   ]
  },
  {
   "cell_type": "markdown",
   "metadata": {},
   "source": [
    "### fancyimpute Knn"
   ]
  },
  {
   "cell_type": "code",
   "execution_count": 33,
   "metadata": {},
   "outputs": [
    {
     "name": "stdout",
     "output_type": "stream",
     "text": [
      "Imputing row 1/174 with 44 missing, elapsed time: 0.033\n",
      "Imputing row 101/174 with 51 missing, elapsed time: 0.092\n"
     ]
    }
   ],
   "source": [
    "stm[mask==0]=np.nan\n",
    "stm_knn = KNN(k=3).fit_transform(stm)"
   ]
  },
  {
   "cell_type": "code",
   "execution_count": 34,
   "metadata": {},
   "outputs": [
    {
     "data": {
      "text/plain": [
       "array([[41. ,  nan,  1.2, ...,  nan,  nan, 25. ],\n",
       "       [ nan,  nan,  nan, ...,  nan,  nan,  nan],\n",
       "       [ nan,  nan,  nan, ...,  nan,  nan, 41. ],\n",
       "       ...,\n",
       "       [ nan,  nan,  nan, ...,  1.1,  2.2,  nan],\n",
       "       [ nan,  nan,  nan, ...,  nan,  nan,  nan],\n",
       "       [ 3.6,  nan,  nan, ...,  nan,  nan,  nan]])"
      ]
     },
     "execution_count": 34,
     "metadata": {},
     "output_type": "execute_result"
    }
   ],
   "source": [
    "stm"
   ]
  },
  {
   "cell_type": "code",
   "execution_count": 35,
   "metadata": {},
   "outputs": [
    {
     "data": {
      "text/plain": [
       "array([[4.10000000e+01, 1.96799645e+00, 1.20000000e+00, ...,\n",
       "        8.62275713e+01, 3.47832640e+02, 2.50000000e+01],\n",
       "       [2.32768557e+01, 9.01250764e-01, 1.04437672e+01, ...,\n",
       "        5.60572931e-01, 9.85711732e+00, 4.18660788e+00],\n",
       "       [4.18302829e+01, 1.32370542e+00, 1.11446725e+01, ...,\n",
       "        6.53693567e+01, 6.91433631e+02, 4.10000000e+01],\n",
       "       ...,\n",
       "       [2.24228159e+02, 1.05651157e+00, 1.17298240e+01, ...,\n",
       "        1.10000000e+00, 2.20000000e+00, 2.36879744e+01],\n",
       "       [4.73813945e+01, 7.30637179e-01, 1.54165373e+01, ...,\n",
       "        2.32314152e-01, 6.99431148e+00, 2.10672070e+01],\n",
       "       [3.60000000e+00, 9.46153500e+00, 2.09999434e+01, ...,\n",
       "        9.49032653e-01, 1.00422721e+02, 5.28961973e+00]])"
      ]
     },
     "execution_count": 35,
     "metadata": {},
     "output_type": "execute_result"
    }
   ],
   "source": [
    "stm_knn"
   ]
  },
  {
   "cell_type": "code",
   "execution_count": 36,
   "metadata": {},
   "outputs": [
    {
     "name": "stdout",
     "output_type": "stream",
     "text": [
      "[BiScaler] Initial log residual value = 13.928087\n",
      "[BiScaler] Iter 1: log residual = 3.135388, log improvement ratio=10.792700\n",
      "[BiScaler] Iter 2: log residual = 0.956633, log improvement ratio=2.178754\n",
      "[BiScaler] Iter 3: log residual = -0.374851, log improvement ratio=1.331484\n",
      "[BiScaler] Iter 4: log residual = -1.564625, log improvement ratio=1.189774\n",
      "[BiScaler] Iter 5: log residual = -2.801501, log improvement ratio=1.236876\n",
      "[BiScaler] Iter 6: log residual = -4.089811, log improvement ratio=1.288311\n",
      "[BiScaler] Iter 7: log residual = -5.406391, log improvement ratio=1.316580\n",
      "[BiScaler] Iter 8: log residual = -6.728927, log improvement ratio=1.322536\n",
      "[BiScaler] Iter 9: log residual = -8.041014, log improvement ratio=1.312087\n",
      "[BiScaler] Iter 10: log residual = -9.330566, log improvement ratio=1.289552\n",
      "[BiScaler] Iter 11: log residual = -10.588270, log improvement ratio=1.257705\n",
      "[BiScaler] Iter 12: log residual = -11.807207, log improvement ratio=1.218937\n",
      "[BiScaler] Iter 13: log residual = -12.983281, log improvement ratio=1.176074\n",
      "[BiScaler] Iter 14: log residual = -14.115745, log improvement ratio=1.132463\n",
      "[BiScaler] Iter 15: log residual = -15.207138, log improvement ratio=1.091394\n",
      "[BiScaler] Iter 16: log residual = -16.262468, log improvement ratio=1.055330\n",
      "[BiScaler] Iter 17: log residual = -17.287949, log improvement ratio=1.025480\n",
      "[BiScaler] Iter 18: log residual = -18.289829, log improvement ratio=1.001880\n",
      "[BiScaler] Iter 19: log residual = -19.273636, log improvement ratio=0.983807\n",
      "[BiScaler] Iter 20: log residual = -20.243855, log improvement ratio=0.970219\n",
      "[BiScaler] Iter 21: log residual = -21.203919, log improvement ratio=0.960064\n",
      "[BiScaler] Iter 22: log residual = -22.156357, log improvement ratio=0.952438\n",
      "[BiScaler] Iter 23: log residual = -23.102984, log improvement ratio=0.946628\n",
      "[BiScaler] Iter 24: log residual = -24.045085, log improvement ratio=0.942101\n",
      "[BiScaler] Iter 25: log residual = -24.983559, log improvement ratio=0.938474\n",
      "[BiScaler] Iter 26: log residual = -25.919033, log improvement ratio=0.935475\n",
      "[BiScaler] Iter 27: log residual = -26.851949, log improvement ratio=0.932915\n",
      "[BiScaler] Iter 28: log residual = -27.782614, log improvement ratio=0.930665\n",
      "[BiScaler] Iter 29: log residual = -28.711249, log improvement ratio=0.928636\n",
      "[BiScaler] Iter 30: log residual = -29.638016, log improvement ratio=0.926766\n",
      "[BiScaler] Iter 31: log residual = -30.563032, log improvement ratio=0.925016\n",
      "[BiScaler] Iter 32: log residual = -31.486389, log improvement ratio=0.923357\n",
      "[BiScaler] Iter 33: log residual = -32.408162, log improvement ratio=0.921773\n",
      "[BiScaler] Iter 34: log residual = -33.328411, log improvement ratio=0.920249\n",
      "[BiScaler] Iter 35: log residual = -34.247192, log improvement ratio=0.918781\n",
      "[BiScaler] Iter 36: log residual = -35.164554, log improvement ratio=0.917362\n",
      "[BiScaler] Iter 37: log residual = -36.080545, log improvement ratio=0.915991\n",
      "[BiScaler] Iter 38: log residual = -36.995211, log improvement ratio=0.914665\n",
      "[BiScaler] Iter 39: log residual = -37.908596, log improvement ratio=0.913385\n",
      "[BiScaler] Iter 40: log residual = -38.820746, log improvement ratio=0.912150\n",
      "[BiScaler] Iter 41: log residual = -39.731707, log improvement ratio=0.910961\n",
      "[BiScaler] Iter 42: log residual = -40.641524, log improvement ratio=0.909817\n",
      "[BiScaler] Iter 43: log residual = -41.550241, log improvement ratio=0.908717\n",
      "[BiScaler] Iter 44: log residual = -42.457907, log improvement ratio=0.907666\n",
      "[BiScaler] Iter 45: log residual = -43.364564, log improvement ratio=0.906657\n",
      "[BiScaler] Iter 46: log residual = -44.270261, log improvement ratio=0.905697\n",
      "[BiScaler] Iter 47: log residual = -45.175037, log improvement ratio=0.904775\n",
      "[BiScaler] Iter 48: log residual = -46.078954, log improvement ratio=0.903917\n",
      "[BiScaler] Iter 49: log residual = -46.982012, log improvement ratio=0.903059\n",
      "[BiScaler] Iter 50: log residual = -47.884285, log improvement ratio=0.902272\n",
      "[BiScaler] Iter 51: log residual = -48.785818, log improvement ratio=0.901533\n",
      "[BiScaler] Iter 52: log residual = -49.686654, log improvement ratio=0.900836\n",
      "[BiScaler] Iter 53: log residual = -50.586868, log improvement ratio=0.900214\n",
      "[BiScaler] Iter 54: log residual = -51.486502, log improvement ratio=0.899634\n",
      "[BiScaler] Iter 55: log residual = -52.385207, log improvement ratio=0.898706\n",
      "[BiScaler] Iter 56: log residual = -53.283992, log improvement ratio=0.898785\n",
      "[BiScaler] Iter 57: log residual = -54.181158, log improvement ratio=0.897166\n",
      "[BiScaler] Iter 58: log residual = -55.078298, log improvement ratio=0.897140\n",
      "[BiScaler] Iter 59: log residual = -55.977667, log improvement ratio=0.899369\n",
      "[BiScaler] Iter 60: log residual = -56.871318, log improvement ratio=0.893651\n",
      "[BiScaler] Iter 61: log residual = -57.769476, log improvement ratio=0.898157\n",
      "[BiScaler] Iter 62: log residual = -58.665758, log improvement ratio=0.896282\n",
      "[BiScaler] Iter 63: log residual = -59.548228, log improvement ratio=0.882470\n",
      "[BiScaler] Iter 64: log residual = -60.460214, log improvement ratio=0.911986\n",
      "[BiScaler] Iter 65: log residual = -61.358964, log improvement ratio=0.898751\n",
      "[BiScaler] Iter 66: log residual = -62.222988, log improvement ratio=0.864023\n",
      "[BiScaler] Iter 67: log residual = -63.093009, log improvement ratio=0.870022\n",
      "[BiScaler] Iter 68: log residual = -63.902148, log improvement ratio=0.809139\n",
      "[BiScaler] Iter 69: log residual = -64.698803, log improvement ratio=0.796655\n",
      "[BiScaler] Iter 70: log residual = -65.224810, log improvement ratio=0.526007\n",
      "[BiScaler] Iter 71: log residual = -65.636995, log improvement ratio=0.412185\n",
      "[BiScaler] Iter 72: log residual = -65.804797, log improvement ratio=0.167802\n",
      "[BiScaler] Iter 73: log residual = -65.857323, log improvement ratio=0.052526\n",
      "[BiScaler] Iter 74: log residual = -65.941151, log improvement ratio=0.083828\n",
      "[BiScaler] Iter 75: log residual = -65.999552, log improvement ratio=0.058401\n",
      "[BiScaler] Iter 76: log residual = -65.993156, log improvement ratio=-0.006395\n",
      "[SoftImpute] Max Singular Value of X_init = 21.110289\n",
      "[SoftImpute] Iter 1: observed MAE=0.031964 rank=101\n",
      "[SoftImpute] Iter 2: observed MAE=0.032002 rank=101\n",
      "[SoftImpute] Iter 3: observed MAE=0.032038 rank=101\n",
      "[SoftImpute] Iter 4: observed MAE=0.032069 rank=101\n",
      "[SoftImpute] Iter 5: observed MAE=0.032096 rank=101\n",
      "[SoftImpute] Iter 6: observed MAE=0.032121 rank=101\n",
      "[SoftImpute] Iter 7: observed MAE=0.032142 rank=101\n",
      "[SoftImpute] Iter 8: observed MAE=0.032139 rank=100\n",
      "[SoftImpute] Iter 9: observed MAE=0.032118 rank=100\n",
      "[SoftImpute] Iter 10: observed MAE=0.032085 rank=98\n",
      "[SoftImpute] Iter 11: observed MAE=0.032014 rank=98\n",
      "[SoftImpute] Iter 12: observed MAE=0.032004 rank=98\n",
      "[SoftImpute] Iter 13: observed MAE=0.031959 rank=97\n",
      "[SoftImpute] Iter 14: observed MAE=0.031953 rank=97\n",
      "[SoftImpute] Iter 15: observed MAE=0.031951 rank=96\n",
      "[SoftImpute] Iter 16: observed MAE=0.031886 rank=95\n",
      "[SoftImpute] Iter 17: observed MAE=0.031781 rank=93\n",
      "[SoftImpute] Iter 18: observed MAE=0.031706 rank=93\n",
      "[SoftImpute] Iter 19: observed MAE=0.031685 rank=93\n",
      "[SoftImpute] Iter 20: observed MAE=0.031632 rank=92\n",
      "[SoftImpute] Iter 21: observed MAE=0.031611 rank=92\n",
      "[SoftImpute] Iter 22: observed MAE=0.031582 rank=91\n",
      "[SoftImpute] Iter 23: observed MAE=0.031535 rank=90\n",
      "[SoftImpute] Iter 24: observed MAE=0.031487 rank=90\n",
      "[SoftImpute] Iter 25: observed MAE=0.031457 rank=89\n",
      "[SoftImpute] Iter 26: observed MAE=0.031409 rank=89\n",
      "[SoftImpute] Iter 27: observed MAE=0.031394 rank=89\n",
      "[SoftImpute] Iter 28: observed MAE=0.031367 rank=88\n",
      "[SoftImpute] Iter 29: observed MAE=0.031329 rank=88\n",
      "[SoftImpute] Iter 30: observed MAE=0.031314 rank=88\n",
      "[SoftImpute] Iter 31: observed MAE=0.031277 rank=87\n",
      "[SoftImpute] Iter 32: observed MAE=0.031225 rank=86\n",
      "[SoftImpute] Iter 33: observed MAE=0.031183 rank=86\n",
      "[SoftImpute] Iter 34: observed MAE=0.031166 rank=86\n",
      "[SoftImpute] Iter 35: observed MAE=0.031158 rank=86\n",
      "[SoftImpute] Iter 36: observed MAE=0.031154 rank=86\n",
      "[SoftImpute] Iter 37: observed MAE=0.031151 rank=86\n",
      "[SoftImpute] Iter 38: observed MAE=0.031150 rank=86\n",
      "[SoftImpute] Iter 39: observed MAE=0.031138 rank=85\n",
      "[SoftImpute] Iter 40: observed MAE=0.031109 rank=85\n",
      "[SoftImpute] Iter 41: observed MAE=0.031096 rank=85\n",
      "[SoftImpute] Iter 42: observed MAE=0.031091 rank=85\n",
      "[SoftImpute] Iter 43: observed MAE=0.031067 rank=84\n",
      "[SoftImpute] Iter 44: observed MAE=0.031041 rank=84\n",
      "[SoftImpute] Iter 45: observed MAE=0.031029 rank=84\n",
      "[SoftImpute] Iter 46: observed MAE=0.031024 rank=84\n",
      "[SoftImpute] Iter 47: observed MAE=0.030992 rank=83\n",
      "[SoftImpute] Iter 48: observed MAE=0.030974 rank=83\n",
      "[SoftImpute] Iter 49: observed MAE=0.030965 rank=83\n",
      "[SoftImpute] Iter 50: observed MAE=0.030960 rank=83\n",
      "[SoftImpute] Iter 51: observed MAE=0.030958 rank=83\n",
      "[SoftImpute] Iter 52: observed MAE=0.030956 rank=83\n",
      "[SoftImpute] Iter 53: observed MAE=0.030929 rank=82\n",
      "[SoftImpute] Iter 54: observed MAE=0.030915 rank=82\n",
      "[SoftImpute] Iter 55: observed MAE=0.030891 rank=81\n",
      "[SoftImpute] Iter 56: observed MAE=0.030869 rank=81\n",
      "[SoftImpute] Iter 57: observed MAE=0.030859 rank=81\n",
      "[SoftImpute] Iter 58: observed MAE=0.030853 rank=81\n",
      "[SoftImpute] Iter 59: observed MAE=0.030849 rank=81\n",
      "[SoftImpute] Iter 60: observed MAE=0.030847 rank=81\n",
      "[SoftImpute] Iter 61: observed MAE=0.030830 rank=80\n",
      "[SoftImpute] Iter 62: observed MAE=0.030813 rank=80\n",
      "[SoftImpute] Iter 63: observed MAE=0.030805 rank=80\n",
      "[SoftImpute] Iter 64: observed MAE=0.030801 rank=80\n",
      "[SoftImpute] Iter 65: observed MAE=0.030799 rank=80\n",
      "[SoftImpute] Iter 66: observed MAE=0.030797 rank=80\n",
      "[SoftImpute] Iter 67: observed MAE=0.030796 rank=80\n",
      "[SoftImpute] Iter 68: observed MAE=0.030795 rank=80\n",
      "[SoftImpute] Iter 69: observed MAE=0.030794 rank=80\n",
      "[SoftImpute] Iter 70: observed MAE=0.030789 rank=79\n",
      "[SoftImpute] Iter 71: observed MAE=0.030767 rank=79\n",
      "[SoftImpute] Iter 72: observed MAE=0.030758 rank=79\n",
      "[SoftImpute] Iter 73: observed MAE=0.030754 rank=79\n",
      "[SoftImpute] Iter 74: observed MAE=0.030751 rank=79\n",
      "[SoftImpute] Iter 75: observed MAE=0.030748 rank=79\n",
      "[SoftImpute] Iter 76: observed MAE=0.030732 rank=78\n",
      "[SoftImpute] Iter 77: observed MAE=0.030713 rank=78\n",
      "[SoftImpute] Iter 78: observed MAE=0.030704 rank=78\n",
      "[SoftImpute] Iter 79: observed MAE=0.030698 rank=78\n",
      "[SoftImpute] Iter 80: observed MAE=0.030694 rank=78\n",
      "[SoftImpute] Iter 81: observed MAE=0.030691 rank=78\n",
      "[SoftImpute] Iter 82: observed MAE=0.030685 rank=77\n",
      "[SoftImpute] Iter 83: observed MAE=0.030662 rank=77\n",
      "[SoftImpute] Iter 84: observed MAE=0.030650 rank=77\n",
      "[SoftImpute] Iter 85: observed MAE=0.030643 rank=77\n",
      "[SoftImpute] Iter 86: observed MAE=0.030639 rank=77\n",
      "[SoftImpute] Iter 87: observed MAE=0.030636 rank=77\n",
      "[SoftImpute] Iter 88: observed MAE=0.030633 rank=77\n",
      "[SoftImpute] Iter 89: observed MAE=0.030622 rank=76\n",
      "[SoftImpute] Iter 90: observed MAE=0.030608 rank=76\n",
      "[SoftImpute] Iter 91: observed MAE=0.030601 rank=76\n",
      "[SoftImpute] Iter 92: observed MAE=0.030596 rank=76\n",
      "[SoftImpute] Iter 93: observed MAE=0.030593 rank=76\n"
     ]
    },
    {
     "name": "stdout",
     "output_type": "stream",
     "text": [
      "[SoftImpute] Iter 94: observed MAE=0.030590 rank=76\n",
      "[SoftImpute] Iter 95: observed MAE=0.030588 rank=76\n",
      "[SoftImpute] Iter 96: observed MAE=0.030586 rank=76\n",
      "[SoftImpute] Iter 97: observed MAE=0.030585 rank=76\n",
      "[SoftImpute] Iter 98: observed MAE=0.030584 rank=76\n",
      "[SoftImpute] Iter 99: observed MAE=0.030583 rank=76\n",
      "[SoftImpute] Iter 100: observed MAE=0.030582 rank=76\n",
      "[SoftImpute] Stopped after iteration 100 for lambda=0.422206\n"
     ]
    }
   ],
   "source": [
    "# Instead of solving the nuclear norm objective directly, instead\n",
    "# induce sparsity using singular value thresholding\n",
    "stm_normalized = BiScaler().fit_transform(stm)\n",
    "stm_softimpute = SoftImpute().fit_transform(stm_normalized)"
   ]
  },
  {
   "cell_type": "code",
   "execution_count": 39,
   "metadata": {},
   "outputs": [
    {
     "data": {
      "text/plain": [
       "array([[-0.48597304,  0.231446  , -0.88748857, ..., -0.09441767,\n",
       "         0.08672113,  0.01939776],\n",
       "       [ 0.49746988, -0.13513342,  0.07546035, ...,  0.10346634,\n",
       "         0.01345405, -0.10543331],\n",
       "       [ 0.14118951, -0.50954928,  0.38414498, ..., -0.01855425,\n",
       "         0.15415591,  0.22608438],\n",
       "       ...,\n",
       "       [-0.02220715,  0.06035144, -0.53414393, ...,  0.42573419,\n",
       "        -0.43607862, -0.42707169],\n",
       "       [-0.32802568, -0.14215451,  1.06337993, ...,  1.12921004,\n",
       "        -0.19221668,  0.21006092],\n",
       "       [-0.62177798, -0.63376155,  0.03037778, ..., -0.58103392,\n",
       "        -0.70713678, -0.54466177]])"
      ]
     },
     "execution_count": 39,
     "metadata": {},
     "output_type": "execute_result"
    }
   ],
   "source": [
    "stm_softimpute"
   ]
  },
  {
   "cell_type": "code",
   "execution_count": null,
   "metadata": {},
   "outputs": [],
   "source": []
  }
 ],
 "metadata": {
  "kernelspec": {
   "display_name": "Python 3",
   "language": "python",
   "name": "python3"
  },
  "language_info": {
   "codemirror_mode": {
    "name": "ipython",
    "version": 3
   },
   "file_extension": ".py",
   "mimetype": "text/x-python",
   "name": "python",
   "nbconvert_exporter": "python",
   "pygments_lexer": "ipython3",
   "version": "3.7.6"
  }
 },
 "nbformat": 4,
 "nbformat_minor": 4
}
